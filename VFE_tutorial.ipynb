{
 "cells": [
  {
   "cell_type": "markdown",
   "id": "303d5002",
   "metadata": {},
   "source": [
    "# Computing the variational free energy (VFE) in categorical models\n",
    "\n",
    "Tutorial from **pymdp** package documentation https://pymdp-rtd.readthedocs.io/en/latest/notebooks/free_energy_calculation.html"
   ]
  },
  {
   "cell_type": "code",
   "execution_count": 1,
   "id": "2d25b920",
   "metadata": {},
   "outputs": [
    {
     "name": "stdout",
     "output_type": "stream",
     "text": [
      "Requirement already satisfied: inferactively-pymdp in c:\\users\\administrator\\anaconda3\\lib\\site-packages (0.0.7.1)\n",
      "Requirement already satisfied: attrs>=20.3.0 in c:\\users\\administrator\\anaconda3\\lib\\site-packages (from inferactively-pymdp) (23.1.0)\n",
      "Requirement already satisfied: cycler>=0.10.0 in c:\\users\\administrator\\anaconda3\\lib\\site-packages (from inferactively-pymdp) (0.11.0)\n",
      "Requirement already satisfied: iniconfig>=1.1.1 in c:\\users\\administrator\\anaconda3\\lib\\site-packages (from inferactively-pymdp) (1.1.1)\n",
      "Requirement already satisfied: kiwisolver>=1.3.1 in c:\\users\\administrator\\anaconda3\\lib\\site-packages (from inferactively-pymdp) (1.4.4)\n",
      "Requirement already satisfied: matplotlib>=3.1.3 in c:\\users\\administrator\\anaconda3\\lib\\site-packages (from inferactively-pymdp) (3.5.2)\n",
      "Requirement already satisfied: nose>=1.3.7 in c:\\users\\administrator\\anaconda3\\lib\\site-packages (from inferactively-pymdp) (1.3.7)\n",
      "Requirement already satisfied: numpy>=1.19.5 in c:\\users\\administrator\\anaconda3\\lib\\site-packages (from inferactively-pymdp) (1.24.4)\n",
      "Requirement already satisfied: openpyxl>=3.0.7 in c:\\users\\administrator\\anaconda3\\lib\\site-packages (from inferactively-pymdp) (3.1.2)\n",
      "Requirement already satisfied: packaging>=20.8 in c:\\users\\administrator\\anaconda3\\lib\\site-packages (from inferactively-pymdp) (23.2)\n",
      "Requirement already satisfied: pandas>=1.2.4 in c:\\users\\administrator\\anaconda3\\lib\\site-packages (from inferactively-pymdp) (1.5.3)\n",
      "Requirement already satisfied: Pillow>=8.2.0 in c:\\users\\administrator\\anaconda3\\lib\\site-packages (from inferactively-pymdp) (10.3.0)\n",
      "Requirement already satisfied: pluggy>=0.13.1 in c:\\users\\administrator\\anaconda3\\lib\\site-packages (from inferactively-pymdp) (1.0.0)\n",
      "Requirement already satisfied: py>=1.10.0 in c:\\users\\administrator\\anaconda3\\lib\\site-packages (from inferactively-pymdp) (1.11.0)\n",
      "Requirement already satisfied: pyparsing>=2.4.7 in c:\\users\\administrator\\anaconda3\\lib\\site-packages (from inferactively-pymdp) (3.0.9)\n",
      "Requirement already satisfied: pytest>=6.2.1 in c:\\users\\administrator\\anaconda3\\lib\\site-packages (from inferactively-pymdp) (7.1.2)\n",
      "Requirement already satisfied: python-dateutil>=2.8.1 in c:\\users\\administrator\\anaconda3\\lib\\site-packages (from inferactively-pymdp) (2.8.2)\n",
      "Requirement already satisfied: pytz>=2020.5 in c:\\users\\administrator\\anaconda3\\lib\\site-packages (from inferactively-pymdp) (2024.1)\n",
      "Requirement already satisfied: scipy>=1.6.0 in c:\\users\\administrator\\anaconda3\\lib\\site-packages (from inferactively-pymdp) (1.9.1)\n",
      "Requirement already satisfied: seaborn>=0.11.1 in c:\\users\\administrator\\anaconda3\\lib\\site-packages (from inferactively-pymdp) (0.11.2)\n",
      "Requirement already satisfied: six>=1.15.0 in c:\\users\\administrator\\anaconda3\\lib\\site-packages (from inferactively-pymdp) (1.16.0)\n",
      "Requirement already satisfied: toml>=0.10.2 in c:\\users\\administrator\\anaconda3\\lib\\site-packages (from inferactively-pymdp) (0.10.2)\n",
      "Requirement already satisfied: typing-extensions>=3.7.4.3 in c:\\users\\administrator\\anaconda3\\lib\\site-packages (from inferactively-pymdp) (4.9.0)\n",
      "Requirement already satisfied: xlsxwriter>=1.4.3 in c:\\users\\administrator\\anaconda3\\lib\\site-packages (from inferactively-pymdp) (3.0.3)\n",
      "Requirement already satisfied: sphinx-rtd-theme>=0.4 in c:\\users\\administrator\\anaconda3\\lib\\site-packages (from inferactively-pymdp) (1.3.0)\n",
      "Requirement already satisfied: myst-nb>=0.13.1 in c:\\users\\administrator\\anaconda3\\lib\\site-packages (from inferactively-pymdp) (0.17.2)\n",
      "Requirement already satisfied: autograd>=1.3 in c:\\users\\administrator\\anaconda3\\lib\\site-packages (from inferactively-pymdp) (1.6.2)\n",
      "Requirement already satisfied: future>=0.15.2 in c:\\users\\administrator\\anaconda3\\lib\\site-packages (from autograd>=1.3->inferactively-pymdp) (0.18.3)\n",
      "Requirement already satisfied: fonttools>=4.22.0 in c:\\users\\administrator\\anaconda3\\lib\\site-packages (from matplotlib>=3.1.3->inferactively-pymdp) (4.51.0)\n",
      "Requirement already satisfied: importlib_metadata in c:\\users\\administrator\\anaconda3\\lib\\site-packages (from myst-nb>=0.13.1->inferactively-pymdp) (7.0.1)\n",
      "Requirement already satisfied: ipython in c:\\users\\administrator\\anaconda3\\lib\\site-packages (from myst-nb>=0.13.1->inferactively-pymdp) (7.31.1)\n",
      "Requirement already satisfied: jupyter-cache<0.7,>=0.5 in c:\\users\\administrator\\anaconda3\\lib\\site-packages (from myst-nb>=0.13.1->inferactively-pymdp) (0.6.1)\n",
      "Requirement already satisfied: nbclient in c:\\users\\administrator\\anaconda3\\lib\\site-packages (from myst-nb>=0.13.1->inferactively-pymdp) (0.5.13)\n",
      "Requirement already satisfied: myst-parser~=0.18.0 in c:\\users\\administrator\\anaconda3\\lib\\site-packages (from myst-nb>=0.13.1->inferactively-pymdp) (0.18.1)\n",
      "Requirement already satisfied: nbformat~=5.0 in c:\\users\\administrator\\anaconda3\\lib\\site-packages (from myst-nb>=0.13.1->inferactively-pymdp) (5.9.2)\n",
      "Requirement already satisfied: pyyaml in c:\\users\\administrator\\anaconda3\\lib\\site-packages (from myst-nb>=0.13.1->inferactively-pymdp) (6.0.1)\n",
      "Requirement already satisfied: sphinx<6,>=4 in c:\\users\\administrator\\anaconda3\\lib\\site-packages (from myst-nb>=0.13.1->inferactively-pymdp) (5.0.2)\n",
      "Requirement already satisfied: ipykernel in c:\\users\\administrator\\anaconda3\\lib\\site-packages (from myst-nb>=0.13.1->inferactively-pymdp) (6.15.2)\n",
      "Requirement already satisfied: et-xmlfile in c:\\users\\administrator\\anaconda3\\lib\\site-packages (from openpyxl>=3.0.7->inferactively-pymdp) (1.1.0)\n",
      "Requirement already satisfied: tomli>=1.0.0 in c:\\users\\administrator\\anaconda3\\lib\\site-packages (from pytest>=6.2.1->inferactively-pymdp) (2.0.1)\n",
      "Requirement already satisfied: atomicwrites>=1.0 in c:\\users\\administrator\\anaconda3\\lib\\site-packages (from pytest>=6.2.1->inferactively-pymdp) (1.4.0)\n",
      "Requirement already satisfied: colorama in c:\\users\\administrator\\anaconda3\\lib\\site-packages (from pytest>=6.2.1->inferactively-pymdp) (0.4.6)\n",
      "Requirement already satisfied: docutils<0.19 in c:\\users\\administrator\\anaconda3\\lib\\site-packages (from sphinx-rtd-theme>=0.4->inferactively-pymdp) (0.18.1)\n",
      "Requirement already satisfied: sphinxcontrib-jquery<5,>=4 in c:\\users\\administrator\\anaconda3\\lib\\site-packages (from sphinx-rtd-theme>=0.4->inferactively-pymdp) (4.1)\n",
      "Requirement already satisfied: click in c:\\users\\administrator\\anaconda3\\lib\\site-packages (from jupyter-cache<0.7,>=0.5->myst-nb>=0.13.1->inferactively-pymdp) (8.1.7)\n",
      "Requirement already satisfied: sqlalchemy<3,>=1.3.12 in c:\\users\\administrator\\anaconda3\\lib\\site-packages (from jupyter-cache<0.7,>=0.5->myst-nb>=0.13.1->inferactively-pymdp) (2.0.25)\n",
      "Requirement already satisfied: tabulate in c:\\users\\administrator\\anaconda3\\lib\\site-packages (from jupyter-cache<0.7,>=0.5->myst-nb>=0.13.1->inferactively-pymdp) (0.9.0)\n",
      "Requirement already satisfied: jinja2 in c:\\users\\administrator\\anaconda3\\lib\\site-packages (from myst-parser~=0.18.0->myst-nb>=0.13.1->inferactively-pymdp) (3.1.3)\n",
      "Requirement already satisfied: markdown-it-py<3.0.0,>=1.0.0 in c:\\users\\administrator\\anaconda3\\lib\\site-packages (from myst-parser~=0.18.0->myst-nb>=0.13.1->inferactively-pymdp) (2.2.0)\n",
      "Requirement already satisfied: mdit-py-plugins~=0.3.1 in c:\\users\\administrator\\anaconda3\\lib\\site-packages (from myst-parser~=0.18.0->myst-nb>=0.13.1->inferactively-pymdp) (0.3.5)\n",
      "Requirement already satisfied: traitlets>=5.0.0 in c:\\users\\administrator\\anaconda3\\lib\\site-packages (from nbclient->myst-nb>=0.13.1->inferactively-pymdp) (5.7.1)\n",
      "Requirement already satisfied: jupyter-client>=6.1.5 in c:\\users\\administrator\\anaconda3\\lib\\site-packages (from nbclient->myst-nb>=0.13.1->inferactively-pymdp) (7.4.9)\n",
      "Requirement already satisfied: nest-asyncio in c:\\users\\administrator\\anaconda3\\lib\\site-packages (from nbclient->myst-nb>=0.13.1->inferactively-pymdp) (1.6.0)\n",
      "Requirement already satisfied: fastjsonschema in c:\\users\\administrator\\anaconda3\\lib\\site-packages (from nbformat~=5.0->myst-nb>=0.13.1->inferactively-pymdp) (2.16.2)\n",
      "Requirement already satisfied: jsonschema>=2.6 in c:\\users\\administrator\\anaconda3\\lib\\site-packages (from nbformat~=5.0->myst-nb>=0.13.1->inferactively-pymdp) (4.19.2)\n",
      "Requirement already satisfied: jupyter-core in c:\\users\\administrator\\anaconda3\\lib\\site-packages (from nbformat~=5.0->myst-nb>=0.13.1->inferactively-pymdp) (5.5.0)\n",
      "Requirement already satisfied: sphinxcontrib-applehelp in c:\\users\\administrator\\anaconda3\\lib\\site-packages (from sphinx<6,>=4->myst-nb>=0.13.1->inferactively-pymdp) (1.0.2)\n",
      "Requirement already satisfied: sphinxcontrib-devhelp in c:\\users\\administrator\\anaconda3\\lib\\site-packages (from sphinx<6,>=4->myst-nb>=0.13.1->inferactively-pymdp) (1.0.2)\n",
      "Requirement already satisfied: sphinxcontrib-jsmath in c:\\users\\administrator\\anaconda3\\lib\\site-packages (from sphinx<6,>=4->myst-nb>=0.13.1->inferactively-pymdp) (1.0.1)\n",
      "Requirement already satisfied: sphinxcontrib-htmlhelp>=2.0.0 in c:\\users\\administrator\\anaconda3\\lib\\site-packages (from sphinx<6,>=4->myst-nb>=0.13.1->inferactively-pymdp) (2.0.0)\n",
      "Requirement already satisfied: sphinxcontrib-serializinghtml>=1.1.5 in c:\\users\\administrator\\anaconda3\\lib\\site-packages (from sphinx<6,>=4->myst-nb>=0.13.1->inferactively-pymdp) (1.1.5)\n",
      "Requirement already satisfied: sphinxcontrib-qthelp in c:\\users\\administrator\\anaconda3\\lib\\site-packages (from sphinx<6,>=4->myst-nb>=0.13.1->inferactively-pymdp) (1.0.3)\n",
      "Requirement already satisfied: Pygments>=2.0 in c:\\users\\administrator\\anaconda3\\lib\\site-packages (from sphinx<6,>=4->myst-nb>=0.13.1->inferactively-pymdp) (2.15.1)\n",
      "Requirement already satisfied: snowballstemmer>=1.1 in c:\\users\\administrator\\anaconda3\\lib\\site-packages (from sphinx<6,>=4->myst-nb>=0.13.1->inferactively-pymdp) (2.2.0)\n",
      "Requirement already satisfied: babel>=1.3 in c:\\users\\administrator\\anaconda3\\lib\\site-packages (from sphinx<6,>=4->myst-nb>=0.13.1->inferactively-pymdp) (2.11.0)\n",
      "Requirement already satisfied: alabaster<0.8,>=0.7 in c:\\users\\administrator\\anaconda3\\lib\\site-packages (from sphinx<6,>=4->myst-nb>=0.13.1->inferactively-pymdp) (0.7.12)\n",
      "Requirement already satisfied: imagesize in c:\\users\\administrator\\anaconda3\\lib\\site-packages (from sphinx<6,>=4->myst-nb>=0.13.1->inferactively-pymdp) (1.4.1)\n",
      "Requirement already satisfied: requests>=2.5.0 in c:\\users\\administrator\\anaconda3\\lib\\site-packages (from sphinx<6,>=4->myst-nb>=0.13.1->inferactively-pymdp) (2.31.0)\n",
      "Requirement already satisfied: zipp>=0.5 in c:\\users\\administrator\\anaconda3\\lib\\site-packages (from importlib_metadata->myst-nb>=0.13.1->inferactively-pymdp) (3.17.0)\n",
      "Requirement already satisfied: debugpy>=1.0 in c:\\users\\administrator\\anaconda3\\lib\\site-packages (from ipykernel->myst-nb>=0.13.1->inferactively-pymdp) (1.6.7)\n",
      "Requirement already satisfied: matplotlib-inline>=0.1 in c:\\users\\administrator\\anaconda3\\lib\\site-packages (from ipykernel->myst-nb>=0.13.1->inferactively-pymdp) (0.1.3)\n",
      "Requirement already satisfied: psutil in c:\\users\\administrator\\anaconda3\\lib\\site-packages (from ipykernel->myst-nb>=0.13.1->inferactively-pymdp) (5.9.0)\n",
      "Requirement already satisfied: pyzmq>=17 in c:\\users\\administrator\\anaconda3\\lib\\site-packages (from ipykernel->myst-nb>=0.13.1->inferactively-pymdp) (24.0.1)\n",
      "Requirement already satisfied: tornado>=6.1 in c:\\users\\administrator\\anaconda3\\lib\\site-packages (from ipykernel->myst-nb>=0.13.1->inferactively-pymdp) (6.3.3)\n",
      "Requirement already satisfied: setuptools>=18.5 in c:\\users\\administrator\\anaconda3\\lib\\site-packages (from ipython->myst-nb>=0.13.1->inferactively-pymdp) (68.2.2)\n",
      "Requirement already satisfied: jedi>=0.16 in c:\\users\\administrator\\anaconda3\\lib\\site-packages (from ipython->myst-nb>=0.13.1->inferactively-pymdp) (0.18.1)\n",
      "Requirement already satisfied: decorator in c:\\users\\administrator\\anaconda3\\lib\\site-packages (from ipython->myst-nb>=0.13.1->inferactively-pymdp) (5.1.1)\n",
      "Requirement already satisfied: pickleshare in c:\\users\\administrator\\anaconda3\\lib\\site-packages (from ipython->myst-nb>=0.13.1->inferactively-pymdp) (0.7.5)\n",
      "Requirement already satisfied: prompt-toolkit!=3.0.0,!=3.0.1,<3.1.0,>=2.0.0 in c:\\users\\administrator\\anaconda3\\lib\\site-packages (from ipython->myst-nb>=0.13.1->inferactively-pymdp) (3.0.43)\n",
      "Requirement already satisfied: backcall in c:\\users\\administrator\\anaconda3\\lib\\site-packages (from ipython->myst-nb>=0.13.1->inferactively-pymdp) (0.2.0)\n",
      "Requirement already satisfied: parso<0.9.0,>=0.8.0 in c:\\users\\administrator\\anaconda3\\lib\\site-packages (from jedi>=0.16->ipython->myst-nb>=0.13.1->inferactively-pymdp) (0.8.3)\n",
      "Requirement already satisfied: MarkupSafe>=2.0 in c:\\users\\administrator\\anaconda3\\lib\\site-packages (from jinja2->myst-parser~=0.18.0->myst-nb>=0.13.1->inferactively-pymdp) (2.1.3)\n",
      "Requirement already satisfied: jsonschema-specifications>=2023.03.6 in c:\\users\\administrator\\anaconda3\\lib\\site-packages (from jsonschema>=2.6->nbformat~=5.0->myst-nb>=0.13.1->inferactively-pymdp) (2023.7.1)\n",
      "Requirement already satisfied: referencing>=0.28.4 in c:\\users\\administrator\\anaconda3\\lib\\site-packages (from jsonschema>=2.6->nbformat~=5.0->myst-nb>=0.13.1->inferactively-pymdp) (0.30.2)\n",
      "Requirement already satisfied: rpds-py>=0.7.1 in c:\\users\\administrator\\anaconda3\\lib\\site-packages (from jsonschema>=2.6->nbformat~=5.0->myst-nb>=0.13.1->inferactively-pymdp) (0.10.6)\n",
      "Requirement already satisfied: entrypoints in c:\\users\\administrator\\anaconda3\\lib\\site-packages (from jupyter-client>=6.1.5->nbclient->myst-nb>=0.13.1->inferactively-pymdp) (0.4)\n",
      "Requirement already satisfied: platformdirs>=2.5 in c:\\users\\administrator\\anaconda3\\lib\\site-packages (from jupyter-core->nbformat~=5.0->myst-nb>=0.13.1->inferactively-pymdp) (3.10.0)\n",
      "Requirement already satisfied: pywin32>=300 in c:\\users\\administrator\\anaconda3\\lib\\site-packages (from jupyter-core->nbformat~=5.0->myst-nb>=0.13.1->inferactively-pymdp) (305.1)\n",
      "Requirement already satisfied: mdurl~=0.1 in c:\\users\\administrator\\anaconda3\\lib\\site-packages (from markdown-it-py<3.0.0,>=1.0.0->myst-parser~=0.18.0->myst-nb>=0.13.1->inferactively-pymdp) (0.1.0)\n",
      "Requirement already satisfied: wcwidth in c:\\users\\administrator\\anaconda3\\lib\\site-packages (from prompt-toolkit!=3.0.0,!=3.0.1,<3.1.0,>=2.0.0->ipython->myst-nb>=0.13.1->inferactively-pymdp) (0.2.5)\n",
      "Requirement already satisfied: charset-normalizer<4,>=2 in c:\\users\\administrator\\anaconda3\\lib\\site-packages (from requests>=2.5.0->sphinx<6,>=4->myst-nb>=0.13.1->inferactively-pymdp) (2.0.4)\n",
      "Requirement already satisfied: idna<4,>=2.5 in c:\\users\\administrator\\anaconda3\\lib\\site-packages (from requests>=2.5.0->sphinx<6,>=4->myst-nb>=0.13.1->inferactively-pymdp) (3.7)\n",
      "Requirement already satisfied: urllib3<3,>=1.21.1 in c:\\users\\administrator\\anaconda3\\lib\\site-packages (from requests>=2.5.0->sphinx<6,>=4->myst-nb>=0.13.1->inferactively-pymdp) (1.26.18)\n",
      "Requirement already satisfied: certifi>=2017.4.17 in c:\\users\\administrator\\anaconda3\\lib\\site-packages (from requests>=2.5.0->sphinx<6,>=4->myst-nb>=0.13.1->inferactively-pymdp) (2024.2.2)\n",
      "Requirement already satisfied: greenlet!=0.4.17 in c:\\users\\administrator\\anaconda3\\lib\\site-packages (from sqlalchemy<3,>=1.3.12->jupyter-cache<0.7,>=0.5->myst-nb>=0.13.1->inferactively-pymdp) (3.0.1)\n"
     ]
    }
   ],
   "source": [
    "! pip install inferactively-pymdp"
   ]
  },
  {
   "cell_type": "code",
   "execution_count": 33,
   "id": "8f51f902",
   "metadata": {},
   "outputs": [],
   "source": [
    "import numpy as np\n",
    "import matplotlib.pyplot as plt\n",
    "from IPython.display import display, Latex\n",
    "\n",
    "from pymdp import utils, maths\n",
    "\n",
    "import autograd.numpy as np_auto   # Thinly-wrapped version of Numpy that is auto-differentiable\n",
    "from autograd import grad          # this is the function that we use to evaluate derivatives\n",
    "from functools import partial"
   ]
  },
  {
   "cell_type": "markdown",
   "id": "a7f54868",
   "metadata": {},
   "source": [
    "#### Helper functions"
   ]
  },
  {
   "cell_type": "code",
   "execution_count": 3,
   "id": "11aafd31",
   "metadata": {},
   "outputs": [],
   "source": [
    "## Define a quick helper function for printing arrays nicely \n",
    "def matprint(mat, fmt=\"g\"):\n",
    "    col_maxes = [max([len((\"{:\"+fmt+\"}\").format(x)) for x in col]) for col in mat.T]\n",
    "    for x in mat:\n",
    "        for i, y in enumerate(x):\n",
    "            print((\"{:\"+str(col_maxes[i])+fmt+\"}\").format(y), end=\"  \")\n",
    "        print(\"\")"
   ]
  },
  {
   "cell_type": "markdown",
   "id": "b025c2cb",
   "metadata": {},
   "source": [
    "### Generative model composed of a likelihood and a prior"
   ]
  },
  {
   "cell_type": "markdown",
   "id": "c98c5287",
   "metadata": {},
   "source": [
    "In this example there are two possible observations and two possible hidden states.\n",
    "\n",
    "The generative model is composed of two distributions: a likelihood distribution $P(o|s)$ and a prior distribution $P(s)$."
   ]
  },
  {
   "cell_type": "code",
   "execution_count": 6,
   "id": "749cbc7f",
   "metadata": {},
   "outputs": [
    {
     "name": "stdout",
     "output_type": "stream",
     "text": [
      "Observation: 1\n",
      "\n",
      "Prior:[0.5 0.5]\n",
      "\n",
      "Likelihood:\n",
      "0.2  0.8  \n",
      "0.8  0.2  \n"
     ]
    }
   ],
   "source": [
    "num_obs = 2 # dimensionality of observations (2 possible observation levels)\n",
    "\n",
    "num_states = 2 # dimensionality of observations (2 possible hidden state levels)\n",
    "\n",
    "observation = 1 # Example of an observation\n",
    "\n",
    "prior = np.array([0.5, 0.5]) \n",
    "\n",
    "likelihood_dist = np.array([ [0.2, 0.8],\n",
    "                        [0.8, 0.2] ])\n",
    "\n",
    "if isinstance(observation, np.ndarray):\n",
    "    print(f'Observation:{observation}\\n')\n",
    "else:\n",
    "    print(f'Observation: {observation}\\n')\n",
    "print(f'Prior:{prior}\\n')\n",
    "print('Likelihood:')\n",
    "matprint(likelihood_dist)"
   ]
  },
  {
   "cell_type": "markdown",
   "id": "ac2f113b",
   "metadata": {},
   "source": [
    "### Exact Bayesian Inference"
   ]
  },
  {
   "cell_type": "markdown",
   "id": "36db7dc6",
   "metadata": {},
   "source": [
    "Now we will find the optimal posterior over hidden states given the observation $o = o_1$ using exact bayesian inference (i.e. Bayes rule)\n",
    "\n",
    "$ \\hspace{60mm} \\Large P(s | o _1) = \\frac{P(o_1 | s)P(s)}{P(o_1)} = \\frac{P(o_1,s)}{P(o_1)}$"
   ]
  },
  {
   "cell_type": "markdown",
   "id": "f9106846",
   "metadata": {},
   "source": [
    "#### 1. Get the likelihood over hidden states, given the observation $P(o = o_1 | s)$"
   ]
  },
  {
   "cell_type": "code",
   "execution_count": 10,
   "id": "6793ed30",
   "metadata": {},
   "outputs": [
    {
     "name": "stdout",
     "output_type": "stream",
     "text": [
      "[0.8 0.2]\n"
     ]
    }
   ],
   "source": [
    "likelihood_s = likelihood_dist[observation,:] \n",
    "\n",
    "print(likelihood_s)"
   ]
  },
  {
   "cell_type": "markdown",
   "id": "18d34dce",
   "metadata": {},
   "source": [
    "#### 2. Compute the joint probability $P(o_1,s)$"
   ]
  },
  {
   "cell_type": "code",
   "execution_count": 12,
   "id": "86f85d16",
   "metadata": {},
   "outputs": [
    {
     "name": "stdout",
     "output_type": "stream",
     "text": [
      "[0.4 0.1]\n"
     ]
    }
   ],
   "source": [
    "joint_prob = likelihood_s * prior\n",
    "\n",
    "print(joint_prob)"
   ]
  },
  {
   "cell_type": "markdown",
   "id": "6f328957",
   "metadata": {},
   "source": [
    "#### 3. Compute Marginal probability or marginal likelihood: $P(o_1) =\\sum_s P(o_1, s) $"
   ]
  },
  {
   "cell_type": "code",
   "execution_count": 19,
   "id": "55dac8c4",
   "metadata": {},
   "outputs": [
    {
     "name": "stdout",
     "output_type": "stream",
     "text": [
      "0.5\n"
     ]
    }
   ],
   "source": [
    "p_1 = joint_prob.sum()\n",
    "\n",
    "print(p_1)"
   ]
  },
  {
   "cell_type": "markdown",
   "id": "d74881a4",
   "metadata": {},
   "source": [
    "#### 4. Compute the posterior:"
   ]
  },
  {
   "cell_type": "code",
   "execution_count": 20,
   "id": "db6664d1",
   "metadata": {},
   "outputs": [
    {
     "name": "stdout",
     "output_type": "stream",
     "text": [
      "Posterior over hidden states: [0.8 0.2]\n",
      "==================\n"
     ]
    }
   ],
   "source": [
    "posterior = joint_prob / p_1 # divide the joint by the marginal\n",
    "\n",
    "print(f'Posterior over hidden states: {posterior}')\n",
    "print('==================')"
   ]
  },
  {
   "cell_type": "markdown",
   "id": "5c53534a",
   "metadata": {},
   "source": [
    "## Variational Free Energy "
   ]
  },
  {
   "cell_type": "markdown",
   "id": "a131e990",
   "metadata": {},
   "source": [
    "The variational free energy is an upper bound on surprise. \n",
    "\n",
    "By minimizing free energy, we are minimizing surprise and thus maximizing log evidence. "
   ]
  },
  {
   "cell_type": "code",
   "execution_count": 21,
   "id": "8e3ca3e3",
   "metadata": {
    "scrolled": true
   },
   "outputs": [
    {
     "data": {
      "text/latex": [
       "$- \\ln P(o_1)$:"
      ],
      "text/plain": [
       "<IPython.core.display.Latex object>"
      ]
     },
     "metadata": {},
     "output_type": "display_data"
    },
    {
     "name": "stdout",
     "output_type": "stream",
     "text": [
      "Surprise: 0.693\n",
      "==================\n"
     ]
    }
   ],
   "source": [
    "surprise = - np.log(p_1)\n",
    "\n",
    "display(Latex(f'$- \\ln P(o_1)$:'))\n",
    "print(f'Surprise: {surprise.round(3)}')\n",
    "print('==================')"
   ]
  },
  {
   "cell_type": "code",
   "execution_count": 31,
   "id": "f2f55c24",
   "metadata": {},
   "outputs": [
    {
     "name": "stdout",
     "output_type": "stream",
     "text": [
      "Variational free energy (F) = 0.916\n",
      "==================\n"
     ]
    }
   ],
   "source": [
    "# to begin with, set our initial Q(s) equal to our prior distribution -- i.e. a flat/uninformative belief about hidden states\n",
    "qs = np.array([0.5, 0.5])\n",
    "\n",
    "# redefine generative model and observation, for ease\n",
    "observation = 1\n",
    "likelihood_dist = np.array([[0.2, 0.8], [0.8, 0.2]])\n",
    "prior = [0.5,0.5]\n",
    "\n",
    "# compute the joint or generative model using the factorization: P(o=o1|s)P(s)\n",
    "joint_prob = likelihood_dist[observation,:] * prior\n",
    "\n",
    "# compute the variational free energy using the expected log difference formulation\n",
    "initial_F = qs.dot(np.log(qs) - np.log(joint_prob))\n",
    "\n",
    "print(f'Variational free energy (F) = {initial_F.round(3)}')\n",
    "print('==================')"
   ]
  },
  {
   "cell_type": "markdown",
   "id": "7a442f58",
   "metadata": {},
   "source": [
    "## Gradient descent on VFE"
   ]
  },
  {
   "cell_type": "code",
   "execution_count": 34,
   "id": "70d40c07",
   "metadata": {},
   "outputs": [],
   "source": [
    "# define the variational free energy as a function of the approximate posterior, an observation, and the generative model\n",
    "def vfe(qs, obs, likelihood, prior):\n",
    "    \"\"\"\n",
    "    Quick docstring below on inputs\n",
    "    Arguments:\n",
    "    =========\n",
    "    `qs` [1D np_auto.ndarray]: variational posterior over hidden states\n",
    "    `obs` [int]: index of the observation\n",
    "    `likelihood` [2D np_auto.ndarray]: likelihood distribution P(o|s), relating hidden states probabilistically to observations\n",
    "    `prior` [1D np_auto.ndarray]: prior over hidden states\n",
    "    \"\"\"\n",
    "\n",
    "    likelihood_s = likelihood[obs,:]\n",
    "\n",
    "    joint = likelihood_s * prior\n",
    "\n",
    "    vfe = qs @ (np_auto.log(qs) - np_auto.log(joint))\n",
    "\n",
    "    return vfe\n",
    "\n",
    "# initialize an observation, an initial variational posterior, a prior, and a likelihood matrix\n",
    "obs = 1\n",
    "init_qs = np_auto.array([0.5, 0.5])\n",
    "prior = np_auto.array([0.5, 0.5])\n",
    "likelihood_dist = np_auto.array([ [0.2, 0.8],\n",
    "                        [0.8, 0.2] ])\n",
    "\n",
    "# this use of `partial` creates a version of the vfe function that is a function of Qs only, \n",
    "# with the other parameters (the observation, the generative model) fixed as constant parameters\n",
    "vfe_qs = partial(vfe, obs = obs, likelihood = likelihood_dist, prior = prior)\n",
    "\n",
    "# By calling `grad` on a function, we get out a function that can be used to compute the gradients of the VFE \n",
    "# with respect to its input (in our case, `qs`)\n",
    "grad_vfe_qs = grad(vfe_qs)"
   ]
  },
  {
   "cell_type": "markdown",
   "id": "7e16b263",
   "metadata": {},
   "source": [
    "$ \\Large \\hspace{60mm} Q(s)_{t+1} = Q(s)_{t} - \\frac{\\partial \\mathcal{F}}{\\partial Q(s)_{t}} $"
   ]
  },
  {
   "cell_type": "code",
   "execution_count": 37,
   "id": "d4ea8908",
   "metadata": {},
   "outputs": [],
   "source": [
    "# number of iterations of gradient descent to perform\n",
    "n_iter = 40\n",
    "\n",
    "qs_hist = np_auto.zeros((n_iter, 2))\n",
    "qs_hist[0,:] = init_qs\n",
    "\n",
    "vfe_hist = np_auto.zeros(n_iter)\n",
    "vfe_hist[0] = vfe_qs(qs = init_qs)\n",
    "\n",
    "learning_rate = 0.1 # learning rate to prevent gradient steps that are too big (overshooting)\n",
    "\n",
    "for i in range(n_iter-1):   \n",
    "\n",
    "    dFdqs = grad_vfe_qs(qs_hist[i,:])\n",
    "\n",
    "    ln_qs = np_auto.log(qs_hist[i,:]) - learning_rate * dFdqs # transform qs to log-space to perform gradient descent\n",
    "    qs_hist[i+1,:] = maths.softmax(ln_qs) # re-normalize to make it a proper, categorical Q(s) again\n",
    "\n",
    "    vfe_hist[i+1] = vfe_qs(qs = qs_hist[i+1,:]) # measure final variational free energy"
   ]
  },
  {
   "cell_type": "code",
   "execution_count": 38,
   "id": "ec17f631",
   "metadata": {},
   "outputs": [
    {
     "data": {
      "text/plain": [
       "Text(0.5, 1.0, 'Gradient descent on VFE')"
      ]
     },
     "execution_count": 38,
     "metadata": {},
     "output_type": "execute_result"
    },
    {
     "data": {
      "image/png": "[encoded data removed]",
      "text/plain": [
       "<Figure size 800x600 with 1 Axes>"
      ]
     },
     "metadata": {},
     "output_type": "display_data"
    }
   ],
   "source": [
    "fig = plt.figure(figsize=(8,6))\n",
    "plt.plot(vfe_hist)\n",
    "plt.ylabel('$\\\\mathcal{F}$', fontsize = 22)\n",
    "plt.xlabel(\"Iteration\", fontsize = 22)\n",
    "plt.xlim(0, n_iter)\n",
    "plt.ylim(vfe_hist[-1], vfe_hist[0])\n",
    "plt.title('Gradient descent on VFE', fontsize = 24)"
   ]
  },
  {
   "cell_type": "code",
   "execution_count": null,
   "id": "1f895473",
   "metadata": {},
   "outputs": [],
   "source": []
  }
 ],
 "metadata": {
  "kernelspec": {
   "display_name": "Python 3 (ipykernel)",
   "language": "python",
   "name": "python3"
  },
  "language_info": {
   "codemirror_mode": {
    "name": "ipython",
    "version": 3
   },
   "file_extension": ".py",
   "mimetype": "text/x-python",
   "name": "python",
   "nbconvert_exporter": "python",
   "pygments_lexer": "ipython3",
   "version": "3.9.19"
  }
 },
 "nbformat": 4,
 "nbformat_minor": 5
}
